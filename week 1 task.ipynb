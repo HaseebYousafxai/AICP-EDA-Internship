{
 "cells": [
  {
   "cell_type": "markdown",
   "metadata": {},
   "source": [
    "# **AI Community Pakistan Linkedin**\n",
    "[![LinkedIn](https://img.icons8.com/color/48/000000/linkedin.png)](https://www.linkedin.com/company/aicommunitypakistan/?lipi=urn%3Ali%3Apage%3Ad_flagship3_search_srp_all%3ByA3ec4yFR22MbTcVPUhSBA%3D%3D)\n"
   ]
  },
  {
   "cell_type": "markdown",
   "metadata": {},
   "source": [
    "# **My Linkedin and Twitter profile**\n",
    "[![LinkedIn](https://img.icons8.com/color/48/000000/linkedin.png)](www.linkedin.com/in/haseeb-ahmad-160845286)\n",
    "[![Twitter](https://img.icons8.com/color/48/000000/twitter.png)](https://twitter.com/haseebyosafxai)"
   ]
  },
  {
   "cell_type": "markdown",
   "metadata": {},
   "source": [
    "# Introduction of numpy"
   ]
  },
  {
   "cell_type": "markdown",
   "metadata": {},
   "source": [
    "**NumPy:**\n",
    "\n",
    "NumPy is like a magic wand for numbers in Python. It helps you do math stuff super fast. Imagine you have a bag of mangoes (numbers), and NumPy makes it easy to count, add, or even share them among friends (operations). So, if you're into numbers, NumPy is your cool math buddy in Python! 🧙‍♂️🔢"
   ]
  },
  {
   "cell_type": "markdown",
   "metadata": {},
   "source": [
    "- **1st of all we import library**"
   ]
  },
  {
   "cell_type": "code",
   "execution_count": 1,
   "metadata": {},
   "outputs": [],
   "source": [
    "import numpy as np"
   ]
  },
  {
   "cell_type": "markdown",
   "metadata": {},
   "source": [
    "> **Task 1:**"
   ]
  },
  {
   "cell_type": "code",
   "execution_count": 2,
   "metadata": {},
   "outputs": [
    {
     "name": "stdout",
     "output_type": "stream",
     "text": [
      "Array of even integers from 30 to 70: [30 32 34 36 38 40 42 44 46 48 50 52 54 56 58 60 62 64 66 68 70]\n"
     ]
    }
   ],
   "source": [
    "# Create an array of even integers from 30 to 70\n",
    "#Is function ke parameters hote hain (start, stop, step)\n",
    "\n",
    "even_array = np.arange(30, 71, 2)\n",
    "\n",
    "# Display the result\n",
    "print(\"Array of even integers from 30 to 70:\", even_array)\n"
   ]
  },
  {
   "cell_type": "markdown",
   "metadata": {},
   "source": [
    "> **Task 2:**"
   ]
  },
  {
   "cell_type": "markdown",
   "metadata": {},
   "source": [
    "- 15 random numbers from a standard normal distribution means making a group of 15 good random numbers that follow a specific bell-shaped graph, called normal distribution. Each number's place shows how it relates to the average."
   ]
  },
  {
   "cell_type": "code",
   "execution_count": 3,
   "metadata": {},
   "outputs": [
    {
     "name": "stdout",
     "output_type": "stream",
     "text": [
      "Array of 15 random numbers from a standard normal distribution: [ 1.21531899 -0.55823211  2.42934469  1.15411582  1.71777671 -0.14977588\n",
      " -0.51550533 -0.4825847   1.13640262  0.27721158  0.20915663  0.16340575\n",
      " -0.45900307 -0.17987457  0.17119996]\n"
     ]
    }
   ],
   "source": [
    "# 15 random numbers standard normal distribution se banayein\n",
    "random_numbers = np.random.randn(15)\n",
    "\n",
    "# Result console pe dikhayein\n",
    "print(\"Array of 15 random numbers from a standard normal distribution:\", random_numbers)"
   ]
  },
  {
   "cell_type": "markdown",
   "metadata": {},
   "source": [
    "> **Task 3:**"
   ]
  },
  {
   "cell_type": "code",
   "execution_count": 4,
   "metadata": {},
   "outputs": [
    {
     "name": "stdout",
     "output_type": "stream",
     "text": [
      "Cross-product of two matrices: [-4 -4]\n"
     ]
    }
   ],
   "source": [
    "# the cross-product of two matrices\n",
    "matrix_A = np.array([[1, 2], [3, 4]])\n",
    "matrix_B = np.array([[5, 6], [7, 8]])\n",
    "cross_product_result = np.cross(matrix_A, matrix_B)\n",
    "\n",
    "\n",
    "print(\"Cross-product of two matrices:\",cross_product_result)\n"
   ]
  },
  {
   "cell_type": "markdown",
   "metadata": {},
   "source": [
    "> **How cross product works?**\n",
    "- matrix_A:\n",
    "    [[1, 2],\n",
    "    [3, 4]]\n",
    "\n",
    "- matrix_B:\n",
    "    [[5, 6],\n",
    "    [7, 8]]\n",
    "\n",
    "\n",
    "- = (1 * 6) - (2 * 5) && (3 * 8) - (4 * 7)\n",
    "- = (6 - 10)  && (24 - 28)\n",
    "- = -4 , -4"
   ]
  },
  {
   "cell_type": "markdown",
   "metadata": {},
   "source": [
    "> **Task 4:**"
   ]
  },
  {
   "cell_type": "code",
   "execution_count": 5,
   "metadata": {},
   "outputs": [
    {
     "name": "stdout",
     "output_type": "stream",
     "text": [
      "Determinant of the array: -2.0000000000000004\n"
     ]
    }
   ],
   "source": [
    "# Compute the determinant of an array\n",
    "matrix_C = np.array([[1, 2], [3, 4]])\n",
    "determinant_result = np.linalg.det(matrix_C)\n",
    "\n",
    "print(\"Determinant of the array:\",determinant_result)\n"
   ]
  },
  {
   "cell_type": "markdown",
   "metadata": {},
   "source": [
    "> **Task 5:**"
   ]
  },
  {
   "cell_type": "code",
   "execution_count": 6,
   "metadata": {},
   "outputs": [
    {
     "name": "stdout",
     "output_type": "stream",
     "text": [
      "3x3x3 array with random values: [[[0.53789654 0.07135482 0.18934877]\n",
      "  [0.35108843 0.15510582 0.10795406]\n",
      "  [0.87562663 0.12639232 0.91584993]]\n",
      "\n",
      " [[0.07027426 0.79804778 0.73397327]\n",
      "  [0.35391661 0.96717649 0.14172935]\n",
      "  [0.58744692 0.14033932 0.02555566]]\n",
      "\n",
      " [[0.43649529 0.88339258 0.27213173]\n",
      "  [0.59282678 0.3074973  0.15976251]\n",
      "  [0.91269801 0.41900253 0.95397535]]]\n"
     ]
    }
   ],
   "source": [
    "# Create a 3x3x3 array with random values\n",
    "# for 3d array the parameters of function are (x,y,z)\n",
    "random_3d_array = np.random.random((3, 3, 3))\n",
    "\n",
    "# Display the result\n",
    "print(\"3x3x3 array with random values:\",random_3d_array)"
   ]
  },
  {
   "cell_type": "markdown",
   "metadata": {},
   "source": [
    "> **Task 6:**"
   ]
  },
  {
   "cell_type": "code",
   "execution_count": 7,
   "metadata": {},
   "outputs": [
    {
     "name": "stdout",
     "output_type": "stream",
     "text": [
      "5x5 array with random values: [[0.4770715  0.84329897 0.27968043 0.16722164 0.59624805]\n",
      " [0.76186069 0.70603653 0.42094825 0.62356054 0.52481813]\n",
      " [0.25724629 0.01301024 0.68612195 0.86790356 0.9201397 ]\n",
      " [0.1185925  0.9332868  0.34579043 0.27801941 0.80160907]\n",
      " [0.62931647 0.84090954 0.94664784 0.07861147 0.38490177]]\n",
      "Minimum value: 0.013010236032909184\n",
      "Maximum value: 0.9466478422726164\n"
     ]
    }
   ],
   "source": [
    "# Create a 5x5 array with random values\n",
    "# this is 2d array the function parameters is (x,y)\n",
    "random_2d_array = np.random.random((5, 5))\n",
    "\n",
    "# Find the minimum and maximum values\n",
    "min_value = np.min(random_2d_array)\n",
    "max_value = np.max(random_2d_array)\n",
    "\n",
    "print(\"5x5 array with random values:\",random_2d_array)\n",
    "print(\"Minimum value:\", min_value)\n",
    "print(\"Maximum value:\", max_value)\n",
    "\n"
   ]
  },
  {
   "cell_type": "markdown",
   "metadata": {},
   "source": [
    "> **Task 7:**"
   ]
  },
  {
   "cell_type": "markdown",
   "metadata": {},
   "source": [
    "- **Standard Deviation:** A measure of how spread out numbers are in a dataset.\n",
    "- **Mean:** The average of a set of numbers, obtained by dividing the sum of all values by the total count.\n",
    "- **Variance:** A measure of how much each number in a dataset differs from the mean, squared and averaged."
   ]
  },
  {
   "cell_type": "code",
   "execution_count": 8,
   "metadata": {},
   "outputs": [
    {
     "name": "stdout",
     "output_type": "stream",
     "text": [
      " Mean along the second axis: [2. 5. 8.] \n",
      " Standard deviation along the second axis: [0.81649658 0.81649658 0.81649658] \n",
      " Variance along the second axis:[0.66666667 0.66666667 0.66666667]\n"
     ]
    }
   ],
   "source": [
    "# Compute the mean, standard deviation, and variance along the second axis\n",
    "array = np.array([[1, 2, 3], [4, 5, 6], [7, 8, 9]])\n",
    "mean = np.mean(array, axis=1)\n",
    "std = np.std(array, axis=1)\n",
    "variance = np.var(array, axis=1)\n",
    "\n",
    "print(f''' Mean along the second axis: {mean} \\n Standard deviation along the second axis: {std} \\n Variance along the second axis:{variance}''')\n"
   ]
  }
 ],
 "metadata": {
  "kernelspec": {
   "display_name": "eda_env",
   "language": "python",
   "name": "python3"
  },
  "language_info": {
   "codemirror_mode": {
    "name": "ipython",
    "version": 3
   },
   "file_extension": ".py",
   "mimetype": "text/x-python",
   "name": "python",
   "nbconvert_exporter": "python",
   "pygments_lexer": "ipython3",
   "version": "3.11.7"
  }
 },
 "nbformat": 4,
 "nbformat_minor": 2
}
