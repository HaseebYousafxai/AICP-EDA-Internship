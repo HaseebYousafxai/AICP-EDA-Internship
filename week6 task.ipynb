{
 "cells": [
  {
   "cell_type": "markdown",
   "metadata": {},
   "source": [
    "# **AI Community Pakistan Linkedin**\n",
    "[![LinkedIn](https://img.icons8.com/color/48/000000/linkedin.png)](https://www.linkedin.com/company/aicommunitypakistan/?lipi=urn%3Ali%3Apage%3Ad_flagship3_search_srp_all%3ByA3ec4yFR22MbTcVPUhSBA%3D%3D)\n"
   ]
  },
  {
   "cell_type": "markdown",
   "metadata": {},
   "source": [
    "\n",
    "# **My Linkedin and Twitter profile**\n",
    "[![LinkedIn](https://img.icons8.com/color/48/000000/linkedin.png)](www.linkedin.com/in/haseeb-ahmad-160845286)\n",
    "[![Twitter](https://img.icons8.com/color/48/000000/twitter.png)](https://twitter.com/haseebyosafxai)"
   ]
  },
  {
   "cell_type": "markdown",
   "metadata": {},
   "source": [
    "# **EDA Internship Task Week 6**"
   ]
  },
  {
   "cell_type": "markdown",
   "metadata": {},
   "source": [
    "- ## **Import Libraries**"
   ]
  },
  {
   "cell_type": "code",
   "execution_count": 2,
   "metadata": {},
   "outputs": [
    {
     "name": "stderr",
     "output_type": "stream",
     "text": [
      "C:\\Users\\4G Traders\\AppData\\Local\\Temp\\ipykernel_5864\\3761407372.py:1: DeprecationWarning: \n",
      "Pyarrow will become a required dependency of pandas in the next major release of pandas (pandas 3.0),\n",
      "(to allow more performant data types, such as the Arrow string type, and better interoperability with other libraries)\n",
      "but was not found to be installed on your system.\n",
      "If this would cause problems for you,\n",
      "please provide us feedback at https://github.com/pandas-dev/pandas/issues/54466\n",
      "        \n",
      "  import pandas as pd\n"
     ]
    }
   ],
   "source": [
    "import pandas as pd\n",
    "import numpy as np\n",
    "import seaborn as sns\n",
    "import matplotlib.pyplot as plt\n",
    "import plotly.graph_objects as go"
   ]
  },
  {
   "cell_type": "markdown",
   "metadata": {},
   "source": [
    "- ## **Import Dataset**\n",
    "> **Tips**\n",
    "- place the dataset in your working directory you can load your dataset by name instead of path.\n",
    "- Or to use a relative path rather than an absolute one. "
   ]
  },
  {
   "cell_type": "code",
   "execution_count": 3,
   "metadata": {},
   "outputs": [],
   "source": [
    "df = pd.read_csv(\"births.csv\")"
   ]
  },
  {
   "cell_type": "markdown",
   "metadata": {},
   "source": [
    "## **Task 1**\n",
    "> Add a new column “Decade” by calculating. For example 1969 will be 1960, 1988 will 1980 etc."
   ]
  },
  {
   "cell_type": "code",
   "execution_count": 4,
   "metadata": {},
   "outputs": [],
   "source": [
    "df[\"Decade\"] = (df[\"year\"]//10)*10"
   ]
  },
  {
   "cell_type": "code",
   "execution_count": 5,
   "metadata": {},
   "outputs": [
    {
     "data": {
      "text/html": [
       "<div>\n",
       "<style scoped>\n",
       "    .dataframe tbody tr th:only-of-type {\n",
       "        vertical-align: middle;\n",
       "    }\n",
       "\n",
       "    .dataframe tbody tr th {\n",
       "        vertical-align: top;\n",
       "    }\n",
       "\n",
       "    .dataframe thead th {\n",
       "        text-align: right;\n",
       "    }\n",
       "</style>\n",
       "<table border=\"1\" class=\"dataframe\">\n",
       "  <thead>\n",
       "    <tr style=\"text-align: right;\">\n",
       "      <th></th>\n",
       "      <th>year</th>\n",
       "      <th>month</th>\n",
       "      <th>day</th>\n",
       "      <th>gender</th>\n",
       "      <th>births</th>\n",
       "      <th>Decade</th>\n",
       "    </tr>\n",
       "  </thead>\n",
       "  <tbody>\n",
       "    <tr>\n",
       "      <th>0</th>\n",
       "      <td>1969</td>\n",
       "      <td>1</td>\n",
       "      <td>1.0</td>\n",
       "      <td>F</td>\n",
       "      <td>4046</td>\n",
       "      <td>1960</td>\n",
       "    </tr>\n",
       "    <tr>\n",
       "      <th>1</th>\n",
       "      <td>1969</td>\n",
       "      <td>1</td>\n",
       "      <td>1.0</td>\n",
       "      <td>M</td>\n",
       "      <td>4440</td>\n",
       "      <td>1960</td>\n",
       "    </tr>\n",
       "    <tr>\n",
       "      <th>2</th>\n",
       "      <td>1969</td>\n",
       "      <td>1</td>\n",
       "      <td>2.0</td>\n",
       "      <td>F</td>\n",
       "      <td>4454</td>\n",
       "      <td>1960</td>\n",
       "    </tr>\n",
       "  </tbody>\n",
       "</table>\n",
       "</div>"
      ],
      "text/plain": [
       "   year  month  day gender  births  Decade\n",
       "0  1969      1  1.0      F    4046    1960\n",
       "1  1969      1  1.0      M    4440    1960\n",
       "2  1969      1  2.0      F    4454    1960"
      ]
     },
     "execution_count": 5,
     "metadata": {},
     "output_type": "execute_result"
    }
   ],
   "source": [
    "df.head(3)"
   ]
  },
  {
   "cell_type": "markdown",
   "metadata": {},
   "source": [
    "### **Explanation**\n",
    "> In this code:\n",
    "- We use integer division (//) to get the decade (e.g., 1969 // 10 = 196).\n",
    "- Multiplying by 10 gives us the desired decade (e.g., 196 * 10 = 1960).\n",
    "- The resulting DataFrame will have an additional column called decade with the calculated decade values."
   ]
  },
  {
   "cell_type": "markdown",
   "metadata": {},
   "source": [
    "## **Task 2**\n",
    "> Show the descriptive statistics of the data."
   ]
  },
  {
   "cell_type": "code",
   "execution_count": 6,
   "metadata": {},
   "outputs": [
    {
     "data": {
      "text/html": [
       "<div>\n",
       "<style scoped>\n",
       "    .dataframe tbody tr th:only-of-type {\n",
       "        vertical-align: middle;\n",
       "    }\n",
       "\n",
       "    .dataframe tbody tr th {\n",
       "        vertical-align: top;\n",
       "    }\n",
       "\n",
       "    .dataframe thead th {\n",
       "        text-align: right;\n",
       "    }\n",
       "</style>\n",
       "<table border=\"1\" class=\"dataframe\">\n",
       "  <thead>\n",
       "    <tr style=\"text-align: right;\">\n",
       "      <th></th>\n",
       "      <th>year</th>\n",
       "      <th>month</th>\n",
       "      <th>day</th>\n",
       "      <th>births</th>\n",
       "      <th>Decade</th>\n",
       "    </tr>\n",
       "  </thead>\n",
       "  <tbody>\n",
       "    <tr>\n",
       "      <th>count</th>\n",
       "      <td>15547.000000</td>\n",
       "      <td>15547.000000</td>\n",
       "      <td>15067.000000</td>\n",
       "      <td>15547.000000</td>\n",
       "      <td>15547.000000</td>\n",
       "    </tr>\n",
       "    <tr>\n",
       "      <th>mean</th>\n",
       "      <td>1979.037435</td>\n",
       "      <td>6.515919</td>\n",
       "      <td>17.769894</td>\n",
       "      <td>9762.293561</td>\n",
       "      <td>1974.544285</td>\n",
       "    </tr>\n",
       "    <tr>\n",
       "      <th>std</th>\n",
       "      <td>6.728340</td>\n",
       "      <td>3.449632</td>\n",
       "      <td>15.284034</td>\n",
       "      <td>28552.465810</td>\n",
       "      <td>6.789583</td>\n",
       "    </tr>\n",
       "    <tr>\n",
       "      <th>min</th>\n",
       "      <td>1969.000000</td>\n",
       "      <td>1.000000</td>\n",
       "      <td>1.000000</td>\n",
       "      <td>1.000000</td>\n",
       "      <td>1960.000000</td>\n",
       "    </tr>\n",
       "    <tr>\n",
       "      <th>25%</th>\n",
       "      <td>1974.000000</td>\n",
       "      <td>4.000000</td>\n",
       "      <td>8.000000</td>\n",
       "      <td>4358.000000</td>\n",
       "      <td>1970.000000</td>\n",
       "    </tr>\n",
       "    <tr>\n",
       "      <th>50%</th>\n",
       "      <td>1979.000000</td>\n",
       "      <td>7.000000</td>\n",
       "      <td>16.000000</td>\n",
       "      <td>4814.000000</td>\n",
       "      <td>1970.000000</td>\n",
       "    </tr>\n",
       "    <tr>\n",
       "      <th>75%</th>\n",
       "      <td>1984.000000</td>\n",
       "      <td>10.000000</td>\n",
       "      <td>24.000000</td>\n",
       "      <td>5289.500000</td>\n",
       "      <td>1980.000000</td>\n",
       "    </tr>\n",
       "    <tr>\n",
       "      <th>max</th>\n",
       "      <td>2008.000000</td>\n",
       "      <td>12.000000</td>\n",
       "      <td>99.000000</td>\n",
       "      <td>199622.000000</td>\n",
       "      <td>2000.000000</td>\n",
       "    </tr>\n",
       "  </tbody>\n",
       "</table>\n",
       "</div>"
      ],
      "text/plain": [
       "               year         month           day         births        Decade\n",
       "count  15547.000000  15547.000000  15067.000000   15547.000000  15547.000000\n",
       "mean    1979.037435      6.515919     17.769894    9762.293561   1974.544285\n",
       "std        6.728340      3.449632     15.284034   28552.465810      6.789583\n",
       "min     1969.000000      1.000000      1.000000       1.000000   1960.000000\n",
       "25%     1974.000000      4.000000      8.000000    4358.000000   1970.000000\n",
       "50%     1979.000000      7.000000     16.000000    4814.000000   1970.000000\n",
       "75%     1984.000000     10.000000     24.000000    5289.500000   1980.000000\n",
       "max     2008.000000     12.000000     99.000000  199622.000000   2000.000000"
      ]
     },
     "execution_count": 6,
     "metadata": {},
     "output_type": "execute_result"
    }
   ],
   "source": [
    "df.describe()"
   ]
  },
  {
   "cell_type": "markdown",
   "metadata": {},
   "source": [
    "### **Explanation**\n",
    "- `describe()` is a function of pandas library which is used to calculate the descriptive statistics of the numerical columns in the dataset."
   ]
  },
  {
   "cell_type": "markdown",
   "metadata": {},
   "source": [
    "## **Additional Information**\n",
    "1. **Count:** Count just means how many things you have. If you're counting apples, the count is how many apples you have.\n",
    "\n",
    "2. **Mean (Average):** Imagine you have some numbers, and you want to know a typical number. The mean is like finding the middle by adding up all the numbers and then dividing by how many there are.\n",
    "\n",
    "3. **Median:** If you line up your numbers from smallest to largest, the median is the one in the middle. If there's an even number, it's the average of the two middle ones.\n",
    "\n",
    "4. **Standard Deviation (std):** This tells you if the numbers are close together or spread out. A small standard deviation means the numbers are close to each other, and a big one means they're more spread out.\n",
    "\n",
    "5. **Minimum (Min):** This is just the smallest number in your group.\n",
    "\n",
    "6. **1st, 2nd, and 3rd Quartile:** Imagine you're splitting your numbers into four equal groups. The quartiles show you the boundaries of these groups - the first quartile is where the first 25% of your numbers are, the second quartile is the middle 50% (which is also the median), and the third quartile is where the first 75% of your numbers are.\n",
    "\n",
    "7. **Maximum (Max):** This is simply the biggest number in your bunch."
   ]
  },
  {
   "cell_type": "markdown",
   "metadata": {},
   "source": [
    "## **Task 3**\n",
    "> Check if your data contains any missing values"
   ]
  },
  {
   "cell_type": "code",
   "execution_count": 7,
   "metadata": {},
   "outputs": [
    {
     "data": {
      "text/plain": [
       "year        0\n",
       "month       0\n",
       "day       480\n",
       "gender      0\n",
       "births      0\n",
       "Decade      0\n",
       "dtype: int64"
      ]
     },
     "execution_count": 7,
     "metadata": {},
     "output_type": "execute_result"
    }
   ],
   "source": [
    "df.isnull().sum()"
   ]
  },
  {
   "cell_type": "markdown",
   "metadata": {},
   "source": [
    "### **Observation**\n",
    "- There are `480` missing values out of `15547` in `day` column of the dataset"
   ]
  },
  {
   "cell_type": "markdown",
   "metadata": {},
   "source": [
    "### **Explanation**\n",
    "- df.isnull().sum() computes the total count of missing values (nulls) for each column in the DataFrame df.\n",
    "- It’s a useful way to quickly assess the data quality and identify columns with missing data. The resulting output will show the count of null values for each column."
   ]
  },
  {
   "cell_type": "markdown",
   "metadata": {},
   "source": [
    "### **Missing values imputation**\n",
    "\n",
    "> - **Mean Imputation:** Replacing missing values with the mean of the column."
   ]
  },
  {
   "cell_type": "code",
   "execution_count": 8,
   "metadata": {},
   "outputs": [
    {
     "name": "stderr",
     "output_type": "stream",
     "text": [
      "C:\\Users\\4G Traders\\AppData\\Local\\Temp\\ipykernel_5864\\2223664324.py:1: FutureWarning: A value is trying to be set on a copy of a DataFrame or Series through chained assignment using an inplace method.\n",
      "The behavior will change in pandas 3.0. This inplace method will never work because the intermediate object on which we are setting values always behaves as a copy.\n",
      "\n",
      "For example, when doing 'df[col].method(value, inplace=True)', try using 'df.method({col: value}, inplace=True)' or df[col] = df[col].method(value) instead, to perform the operation inplace on the original object.\n",
      "\n",
      "\n",
      "  df['day'].fillna(df['day'].mean(), inplace=True)\n"
     ]
    }
   ],
   "source": [
    "df['day'].fillna(df['day'].mean(), inplace=True)"
   ]
  },
  {
   "cell_type": "code",
   "execution_count": 9,
   "metadata": {},
   "outputs": [
    {
     "data": {
      "text/plain": [
       "year      0\n",
       "month     0\n",
       "day       0\n",
       "gender    0\n",
       "births    0\n",
       "Decade    0\n",
       "dtype: int64"
      ]
     },
     "execution_count": 9,
     "metadata": {},
     "output_type": "execute_result"
    }
   ],
   "source": [
    "df.isnull().sum()"
   ]
  },
  {
   "cell_type": "markdown",
   "metadata": {},
   "source": [
    "### **Why we impute Missing values**\n",
    "- Imputing missing values means filling in the gaps in your data. It’s like completing a puzzle by estimating what’s missing. This helps ensure accurate analysis and better machine learning models. 🧩📊"
   ]
  },
  {
   "cell_type": "markdown",
   "metadata": {},
   "source": [
    "## **Task 4**\n",
    ">  What is the trend of male & female births every decade?"
   ]
  },
  {
   "cell_type": "code",
   "execution_count": 10,
   "metadata": {},
   "outputs": [
    {
     "data": {
      "text/plain": [
       "Decade  gender\n",
       "1960    F          384\n",
       "        M          384\n",
       "1970    F         3811\n",
       "        M         3807\n",
       "1980    F         3353\n",
       "        M         3352\n",
       "1990    F          120\n",
       "        M          120\n",
       "2000    F          108\n",
       "        M          108\n",
       "Name: births, dtype: int64"
      ]
     },
     "execution_count": 10,
     "metadata": {},
     "output_type": "execute_result"
    }
   ],
   "source": [
    "df.groupby(['Decade', 'gender'])['births'].count()"
   ]
  },
  {
   "cell_type": "markdown",
   "metadata": {},
   "source": [
    "### **Explanation**\n",
    "- This code groups the data by `decade and gender,` then counts the number of `births` for each combination. The result shows how many `male and female births` occurred in each `decade`."
   ]
  },
  {
   "cell_type": "markdown",
   "metadata": {},
   "source": [
    "## **Task 5**\n",
    "> To remove outliers from dataset following techinque to include only those values that fall within 5\n",
    "> standard deviations from the mean.This is a common statistical technique used to focus on the central\n",
    "> tendency of the data while excluding extreme values.\n",
    "> Use this technique to remove outliers."
   ]
  },
  {
   "cell_type": "code",
   "execution_count": 11,
   "metadata": {},
   "outputs": [
    {
     "data": {
      "text/html": [
       "<div>\n",
       "<style scoped>\n",
       "    .dataframe tbody tr th:only-of-type {\n",
       "        vertical-align: middle;\n",
       "    }\n",
       "\n",
       "    .dataframe tbody tr th {\n",
       "        vertical-align: top;\n",
       "    }\n",
       "\n",
       "    .dataframe thead th {\n",
       "        text-align: right;\n",
       "    }\n",
       "</style>\n",
       "<table border=\"1\" class=\"dataframe\">\n",
       "  <thead>\n",
       "    <tr style=\"text-align: right;\">\n",
       "      <th></th>\n",
       "      <th>year</th>\n",
       "      <th>month</th>\n",
       "      <th>day</th>\n",
       "      <th>births</th>\n",
       "      <th>Decade</th>\n",
       "    </tr>\n",
       "  </thead>\n",
       "  <tbody>\n",
       "    <tr>\n",
       "      <th>0</th>\n",
       "      <td>1969</td>\n",
       "      <td>1</td>\n",
       "      <td>1.0</td>\n",
       "      <td>4046.0</td>\n",
       "      <td>1960</td>\n",
       "    </tr>\n",
       "    <tr>\n",
       "      <th>1</th>\n",
       "      <td>1969</td>\n",
       "      <td>1</td>\n",
       "      <td>1.0</td>\n",
       "      <td>4440.0</td>\n",
       "      <td>1960</td>\n",
       "    </tr>\n",
       "    <tr>\n",
       "      <th>2</th>\n",
       "      <td>1969</td>\n",
       "      <td>1</td>\n",
       "      <td>2.0</td>\n",
       "      <td>4454.0</td>\n",
       "      <td>1960</td>\n",
       "    </tr>\n",
       "    <tr>\n",
       "      <th>3</th>\n",
       "      <td>1969</td>\n",
       "      <td>1</td>\n",
       "      <td>2.0</td>\n",
       "      <td>4548.0</td>\n",
       "      <td>1960</td>\n",
       "    </tr>\n",
       "    <tr>\n",
       "      <th>4</th>\n",
       "      <td>1969</td>\n",
       "      <td>1</td>\n",
       "      <td>3.0</td>\n",
       "      <td>4548.0</td>\n",
       "      <td>1960</td>\n",
       "    </tr>\n",
       "  </tbody>\n",
       "</table>\n",
       "</div>"
      ],
      "text/plain": [
       "   year  month  day  births  Decade\n",
       "0  1969      1  1.0  4046.0    1960\n",
       "1  1969      1  1.0  4440.0    1960\n",
       "2  1969      1  2.0  4454.0    1960\n",
       "3  1969      1  2.0  4548.0    1960\n",
       "4  1969      1  3.0  4548.0    1960"
      ]
     },
     "execution_count": 11,
     "metadata": {},
     "output_type": "execute_result"
    }
   ],
   "source": [
    "attributes = ['year', 'month', 'day', 'births', 'Decade']\n",
    "df1 = df[attributes]\n",
    "Q1 = np.percentile(df1, 25)\n",
    "Q3 = np.percentile(df1, 75)\n",
    "IQR = Q3 - Q1\n",
    "lower_bound = Q1 - 1.5 * IQR\n",
    "upper_bound = Q3 + 1.5 * IQR\n",
    "filtered_data_iqr = df1[(df1 >= lower_bound) & (df1 <= upper_bound)]\n",
    "filtered_data_iqr[:5]\n"
   ]
  },
  {
   "cell_type": "markdown",
   "metadata": {},
   "source": [
    "**Explanation:**\n",
    "- The above code provide to remove outliers from the data using `IQR method`."
   ]
  },
  {
   "cell_type": "markdown",
   "metadata": {},
   "source": [
    "## **Task 6**\n",
    "> Q.6: Plot births by weekday for several decades."
   ]
  },
  {
   "cell_type": "code",
   "execution_count": 23,
   "metadata": {},
   "outputs": [],
   "source": [
    "day_names = ['Monday', 'Tuesday', 'Wednesday', 'Thursday', 'Friday', 'Saturday', 'Sunday']\n",
    "df['day1'] = df['day'].map(dict(enumerate(day_names, start=1)))\n"
   ]
  },
  {
   "cell_type": "markdown",
   "metadata": {},
   "source": [
    "**Explanation**\n",
    "- we add the new column in our dataframe by the name of `day1`.\n",
    "- In `day1` column we store the converted values (to str) of `day` column. \n",
    "- `df['day'].map(...):` The .map() function is used to apply a mapping (or transformation) to each value in the specified column. \n",
    "    In this case, we’re mapping the values in the 'day' column to their corresponding day names.\n",
    "- `dict(enumerate(day_names, start=1)):` Here, we’re creating a dictionary using the enumerate function. The enumerate function generates pairs of index-value pairs from the day_names list. The start=1 argument specifies that the enumeration should start from 1 (since days are typically indexed from 1 to 7).\n",
    "- So, the code essentially takes the numeric day values (1 to 7) and replaces them with their corresponding day names (Monday to Sunday). For example, if the original 'day' column had a value of 3, the 'day1' column will have the value “Wednesday.”"
   ]
  },
  {
   "cell_type": "code",
   "execution_count": 24,
   "metadata": {},
   "outputs": [
    {
     "data": {
      "image/png": "[encoded data removed]",
      "text/plain": [
       "<Figure size 800x600 with 1 Axes>"
      ]
     },
     "metadata": {},
     "output_type": "display_data"
    }
   ],
   "source": [
    "grouped = df.groupby(\"day1\")[\"births\"].sum()\n",
    "plt.figure(figsize=(8, 6))\n",
    "grouped.plot(kind=\"bar\", color=\"skyblue\")\n",
    "plt.title(\"Births by Weekday\")\n",
    "plt.xlabel(\"Weekday\")\n",
    "plt.ylabel(\"Total Births\")\n",
    "plt.xticks(rotation=45)\n",
    "plt.show()"
   ]
  },
  {
   "cell_type": "code",
   "execution_count": 25,
   "metadata": {},
   "outputs": [
    {
     "data": {
      "text/plain": [
       "day1\n",
       "Friday       2296951\n",
       "Monday       2286854\n",
       "Saturday     2308073\n",
       "Sunday       2314081\n",
       "Thursday     2286588\n",
       "Tuesday      2303168\n",
       "Wednesday    2309087\n",
       "Name: births, dtype: int64"
      ]
     },
     "execution_count": 25,
     "metadata": {},
     "output_type": "execute_result"
    }
   ],
   "source": [
    "grouped = df.groupby(\"day1\")[\"births\"].sum()\n",
    "grouped"
   ]
  },
  {
   "cell_type": "markdown",
   "metadata": {},
   "source": [
    "## **Task 7**\n",
    "> Group the data by month and day separately:"
   ]
  },
  {
   "cell_type": "code",
   "execution_count": 17,
   "metadata": {},
   "outputs": [
    {
     "name": "stdout",
     "output_type": "stream",
     "text": [
      "Total births by month: month\n",
      "1     12364197\n",
      "2     11541178\n",
      "3     12678844\n",
      "4     12085891\n",
      "5     12624972\n",
      "6     12521070\n",
      "7     13367556\n",
      "8     13528007\n",
      "9     13252831\n",
      "10    12954950\n",
      "11    12197967\n",
      "12    12656915\n",
      "Name: births, dtype: int64\n",
      "\n",
      "Total births by day: day1\n",
      "Friday       2286588\n",
      "Saturday     2296951\n",
      "Sunday       2308073\n",
      "Thursday     2309087\n",
      "Tuesday      2286854\n",
      "Wednesday    2303168\n",
      "Name: births, dtype: int64\n"
     ]
    }
   ],
   "source": [
    "grouped_by_month = df.groupby('month')['births'].sum()\n",
    "grouped_by_day = df.groupby('day1')['births'].sum()\n",
    "print(\"Total births by month:\",grouped_by_month)\n",
    "print(\"\\nTotal births by day:\", grouped_by_day)"
   ]
  },
  {
   "cell_type": "markdown",
   "metadata": {},
   "source": [
    "## **Task 8**\n",
    "> Q.8: Focusing on the month and day only, you have a time series reflecting the average number of\n",
    "births by date of the year. From this, plot the data:"
   ]
  },
  {
   "cell_type": "code",
   "execution_count": 18,
   "metadata": {},
   "outputs": [
    {
     "data": {
      "image/png": "[encoded data removed]",
      "text/plain": [
       "<Figure size 1000x600 with 1 Axes>"
      ]
     },
     "metadata": {},
     "output_type": "display_data"
    }
   ],
   "source": [
    "average_births_by_date = df.groupby(['month', 'day1'])['births'].mean()\n",
    "plt.figure(figsize=(10, 6))\n",
    "average_births_by_date.plot(marker='o', linestyle='-', color='b')\n",
    "plt.title(\"Average Births by Date of the Year\")\n",
    "plt.xlabel(\"Date (Month-Day)\")\n",
    "plt.ylabel(\"Average Births\")\n",
    "plt.grid(True)\n",
    "plt.show()"
   ]
  },
  {
   "cell_type": "code",
   "execution_count": null,
   "metadata": {},
   "outputs": [],
   "source": []
  }
 ],
 "metadata": {
  "kernelspec": {
   "display_name": "eda_env",
   "language": "python",
   "name": "python3"
  },
  "language_info": {
   "codemirror_mode": {
    "name": "ipython",
    "version": 3
   },
   "file_extension": ".py",
   "mimetype": "text/x-python",
   "name": "python",
   "nbconvert_exporter": "python",
   "pygments_lexer": "ipython3",
   "version": "3.11.7"
  }
 },
 "nbformat": 4,
 "nbformat_minor": 2
}
